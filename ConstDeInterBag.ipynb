{
  "nbformat": 4,
  "nbformat_minor": 0,
  "metadata": {
    "colab": {
      "provenance": [],
      "collapsed_sections": [],
      "authorship_tag": "ABX9TyM1Kz/0ScscbEfIwQsyri6n",
      "include_colab_link": true
    },
    "kernelspec": {
      "name": "python3",
      "display_name": "Python 3"
    },
    "language_info": {
      "name": "python"
    }
  },
  "cells": [
    {
      "cell_type": "markdown",
      "metadata": {
        "id": "view-in-github",
        "colab_type": "text"
      },
      "source": [
        "<a href=\"https://colab.research.google.com/github/Mazihell/T5ConstInter/blob/main/ConstDeInterBag.ipynb\" target=\"_parent\"><img src=\"https://colab.research.google.com/assets/colab-badge.svg\" alt=\"Open In Colab\"/></a>"
      ]
    },
    {
      "cell_type": "code",
      "execution_count": 1,
      "metadata": {
        "id": "AxmuRy3TcDh0"
      },
      "outputs": [],
      "source": [
        "from bs4 import BeautifulSoup\n",
        "from urllib.request import Request, urlopen"
      ]
    },
    {
      "cell_type": "code",
      "source": [
        "import nltk\n",
        "import re\n",
        "#tokenizer\n",
        "import numpy as np\n",
        "nltk.download('punkt')\n",
        "#tagger pré treinado em inglês\n",
        "nltk.download('averaged_perceptron_tagger')\n",
        "#palavras para exclusão\n",
        "nltk.download('stopwords')\n",
        "from nltk.tokenize import word_tokenize\n",
        "from nltk.tokenize import sent_tokenize\n",
        "from nltk.corpus import stopwords\n",
        "from string import punctuation\n",
        "from collections import defaultdict\n",
        "from nltk.probability import FreqDist\n",
        "from heapq import nlargest"
      ],
      "metadata": {
        "colab": {
          "base_uri": "https://localhost:8080/"
        },
        "id": "geHG92pZfj5M",
        "outputId": "81669eb8-1559-43fa-a516-3f287092f171"
      },
      "execution_count": 2,
      "outputs": [
        {
          "output_type": "stream",
          "name": "stderr",
          "text": [
            "[nltk_data] Downloading package punkt to /root/nltk_data...\n",
            "[nltk_data]   Unzipping tokenizers/punkt.zip.\n",
            "[nltk_data] Downloading package averaged_perceptron_tagger to\n",
            "[nltk_data]     /root/nltk_data...\n",
            "[nltk_data]   Unzipping taggers/averaged_perceptron_tagger.zip.\n",
            "[nltk_data] Downloading package stopwords to /root/nltk_data...\n",
            "[nltk_data]   Unzipping corpora/stopwords.zip.\n"
          ]
        }
      ]
    },
    {
      "cell_type": "code",
      "source": [
        "#Artigos em ingles para donwload\n",
        "link1 = Request('https://link.springer.com/article/10.1007/s42979-021-00592-x',headers={'User-Agent': 'Mozilla/5.0'})\n",
        "link2 = Request('https://link.springer.com/article/10.1007/s42979-022-01371-y',headers={'User-Agent': 'Mozilla/5.0'})\n",
        "link3 = Request('https://www.ibm.com/cloud/learn/neural-networks',headers={'User-Agent': 'Mozilla/5.0'})\n",
        "link4 = Request('https://realpython.com/python-ai-neural-network/',headers={'User-Agent': 'Mozilla/5.0'})\n",
        "link5 = Request('https://monkeylearn.com/text-classification/',headers={'User-Agent': 'Mozilla/5.0'})"
      ],
      "metadata": {
        "id": "EpaEsMqTflbq"
      },
      "execution_count": 3,
      "outputs": []
    },
    {
      "cell_type": "code",
      "source": [
        "#armazenando da pagina na variavel\n",
        "pagina1 = urlopen(link1).read().decode('utf-8', 'ignore')\n",
        "pagina2 = urlopen(link2).read().decode('utf-8', 'ignore')\n",
        "pagina3 = urlopen(link3).read().decode('utf-8', 'ignore')\n",
        "pagina4 = urlopen(link4).read().decode('utf-8', 'ignore')\n",
        "pagina5 = urlopen(link5).read().decode('utf-8', 'ignore')"
      ],
      "metadata": {
        "id": "_rh0kJgHfm9S"
      },
      "execution_count": 4,
      "outputs": []
    },
    {
      "cell_type": "code",
      "source": [
        "soup1 = BeautifulSoup(pagina1, \"lxml\")\n",
        "soup2 = BeautifulSoup(pagina2, \"lxml\")\n",
        "soup3 = BeautifulSoup(pagina3, \"lxml\")\n",
        "soup4 = BeautifulSoup(pagina4, \"lxml\")\n",
        "soup5 = BeautifulSoup(pagina5, \"lxml\")\n",
        "#busca pelo ID do que precisa do html\n",
        "texto1 = soup1.find(id=\"Sec5-content\").text\n",
        "texto2 = soup2.find(id=\"Sec2-content\").text\n",
        "texto3 = soup3.find(id=\"layout-section-second\").text\n",
        "texto4 = soup4.find(id=\"artificial-intelligence-overview\").text\n",
        "texto5 = soup5.find(id=\"___gatsby\").text  \n",
        "#soup3.find_all(id=True)"
      ],
      "metadata": {
        "id": "8kLcqsZUfosy"
      },
      "execution_count": 5,
      "outputs": []
    },
    {
      "cell_type": "code",
      "source": [
        "#divisão do texto em sentenças\n",
        "sentencas1 = sent_tokenize(texto1)\n",
        "sentencas2 = sent_tokenize(texto2)\n",
        "sentencas3 = sent_tokenize(texto3)\n",
        "sentencas4 = sent_tokenize(texto4)\n",
        "sentencas5 = sent_tokenize(texto5)\n",
        "#divisão do texto em palavras\n",
        "palavras1 = word_tokenize(texto1.lower())\n",
        "palavras2 = word_tokenize(texto2.lower())\n",
        "palavras3 = word_tokenize(texto3.lower())\n",
        "palavras4 = word_tokenize(texto4.lower())\n",
        "palavras5 = word_tokenize(texto5.lower())\n",
        "vetor_setencas = []\n",
        "vetor_setencas.append(sentencas1 + sentencas2 + sentencas3 + sentencas4 + sentencas5)\n",
        "# vetor_setencas.append(sentencas2)\n",
        "# vetor_setencas.append(sentencas3)\n",
        "# vetor_setencas.append(sentencas4)\n",
        "# vetor_setencas.append(sentencas5)"
      ],
      "metadata": {
        "id": "lua2pppFfrBh"
      },
      "execution_count": 6,
      "outputs": []
    },
    {
      "cell_type": "code",
      "source": [
        "for i in range (len(vetor_setencas)):\n",
        "    for j in range(len(vetor_setencas[i])):\n",
        "        vetor_setencas[i][j] = vetor_setencas[i][j].lower() #converte todas as palavras para letras minusculas\n",
        "        vetor_setencas[i][j] = re.sub(r'W', ' ', vetor_setencas[i][j]) # troca tudo que não for uma palavra para um espaço\n",
        "        vetor_setencas[i][j] = re.sub(r's+', ' ', vetor_setencas[i][j]) # troca tudo que for quebras de linha para um espaço simples"
      ],
      "metadata": {
        "id": "9KrJI4w5fsuL"
      },
      "execution_count": 8,
      "outputs": []
    },
    {
      "cell_type": "code",
      "source": [
        "#cria um dicionario com as quantidades de palavras repetidas\n",
        "word2count = {}\n",
        "for data in vetor_setencas:\n",
        "    for i in range(len(data)):\n",
        "        for j in range(len(data[i])):\n",
        "            words = nltk.word_tokenize(data[i])\n",
        "        for word in words:\n",
        "            if word not in word2count.keys():\n",
        "                word2count[word] = 1\n",
        "            else:\n",
        "                word2count[word] += 1\n",
        "            \n",
        "print(word2count)"
      ],
      "metadata": {
        "colab": {
          "base_uri": "https://localhost:8080/"
        },
        "id": "VbtSl6hrgIGh",
        "outputId": "52c7a228-db18-44aa-c9ba-59b9b0838a83"
      },
      "execution_count": 9,
      "outputs": [
        {
          "output_type": "stream",
          "name": "stdout",
          "text": [
            "{'in': 296, 'thi': 75, 'ection': 6, ',': 1175, 'we': 46, 'di': 55, 'cu': 42, 'variou': 17, 'machine': 108, 'learning': 199, 'algorithm': 93, 'that': 156, 'include': 9, 'cla': 240, 'ification': 142, 'analy': 52, 'i': 398, 'regre': 56, 'ion': 109, 'data': 201, 'clu': 82, 'tering': 44, 'a': 591, 'ociation': 26, 'rule': 44, 'feature': 93, 'engineering': 10, 'for': 213, 'dimen': 21, 'ionality': 12, 'reduction': 10, 'well': 24, 'deep': 51, 'method': 46, '.': 758, 'general': 7, 'tructure': 11, 'of': 532, 'learning-ba': 3, 'ed': 219, 'predictive': 5, 'model': 118, 'ha': 28, 'been': 14, 'hown': 6, 'fig': 13, '3': 4, 'where': 20, 'the': 824, 'trained': 23, 'from': 47, 'hi': 8, 'torical': 1, 'pha': 5, 'e': 270, '1': 37, 'and': 458, 'outcome': 9, 'generated': 4, '2': 5, 'new': 28, 'te': 24, 't': 324, 'data.fig': 1, '3a': 1, 'ba': 49, 'con': 98, 'idering': 3, 'both': 16, 'training': 33, 'ting': 23, 'efull': 1, 'ize': 12, 'imagecla': 1, 'regarded': 1, 'upervi': 19, 'referring': 2, 'to': 416, 'problem': 29, 'modeling': 6, 'label': 9, 'predicted': 8, 'given': 25, 'example': 58, '[': 223, '41': 15, ']': 223, 'mathematically': 5, 'it': 148, 'map': 3, 'function': 22, '(': 559, 'f': 7, ')': 559, 'input': 27, 'variable': 39, 'x': 15, 'output': 28, 'y': 59, 'target': 6, 'or': 92, 'categorie': 11, 'predict': 11, 'point': 18, 'can': 143, 'be': 89, 'carried': 1, 'out': 17, 'on': 95, 'tructured': 11, 'un': 26, 'pam': 13, 'detection': 9, 'uch': 42, '“': 53, '”': 53, 'not': 29, 'email': 14, 'ervice': 12, 'provider': 2, 'following': 21, 'ummarize': 6, 'common': 21, 'binary': 8, ':': 128, 'refer': 6, 'ta': 23, 'k': 36, 'having': 7, 'two': 26, 'true': 6, 'fal': 3, 'ye': 5, 'no': 7, 'one': 44, 'could': 7, 'normal': 5, 'tate': 8, 'while': 14, 'abnormal': 3, 'another': 24, 'tance': 16, 'cancer': 2, 'detected': 3, 'involve': 2, 'medical': 6, 'idered': 8, 'imilarly': 2, 'above': 11, 'are': 122, 'multicla': 4, 'traditionally': 1, 'tho': 7, 'more': 59, 'than': 20, 'doe': 16, 'have': 22, 'principle': 4, 'unlike': 6, 'tead': 8, 'within': 7, 'range': 6, 'pecified': 4, 'ified': 6, 'belonging': 2, 'ify': 16, 'type': 17, 'network': 92, 'attack': 8, 'n': 10, 'l-kdd': 1, '119': 1, 'et': 402, 'into': 32, 'four': 2, 'do': 18, 'denial': 1, 'u2r': 1, 'u': 223, 'er': 8, 'root': 4, 'r2l': 1, 'local': 2, 'probing': 1, 'multi-label': 4, 'an': 75, 'important': 14, 'ideration': 1, 'ociated': 5, 'with': 116, 'everal': 10, 'thu': 14, 'generalization': 4, 'involved': 3, 'hierarchically': 1, 'each': 30, 'may': 6, 'imultaneou': 2, 'ly': 3, 'belong': 5, 'hierarchical': 10, 'level': 2, 'e.g.': 12, 'multi-level': 1, 'text': 145, 'google': 4, 'pre': 4, 'ented': 1, 'under': 19, 'city': 1, 'name': 4, 'technology': 2, 'late': 2, 'etc': 14, 'advanced': 4, 'upport': 23, 'predicting': 2, 'mutually': 2, 'non-exclu': 1, 'ive': 21, 'traditional': 6, 'exclu': 3, '82': 29, 'many': 17, 'propo': 12, 'cience': 11, 'literature': 4, '125': 5, 'mo': 41, 'popular': 20, 'widely': 10, 'application': 25, 'area': 18, 'naive': 8, 'baye': 13, 'nb': 3, '’': 96, 'theorem': 2, 'umption': 3, 'independence': 2, 'between': 23, 'pair': 4, '51': 2, 'work': 21, 'multi-cla': 1, 'real-world': 4, 'ituation': 4, 'document': 6, 'filtering': 3, 'effectively': 2, 'noi': 8, 'truct': 5, 'robu': 6, 'prediction': 22, 'ifier': 44, '94': 1, 'key': 4, 'benefit': 4, 'compared': 6, 'ophi': 2, 'ticated': 1, 'approache': 8, 'need': 20, 'mall': 8, 'amount': 6, 'timate': 4, 'nece': 1, 'ary': 1, 'parameter': 9, 'quickly': 4, 'however': 14, 'performance': 11, 'affect': 4, 'due': 7, 'trong': 2, 'gau': 7, 'ian': 7, 'multinomial': 2, 'complement': 1, 'bernoulli': 1, 'categorical': 3, 'variant': 2, 'linear': 24, 'criminant': 3, 'lda': 4, 'deci': 33, 'boundary': 2, 'created': 6, 'by': 79, 'fitting': 1, 'conditional': 3, 'den': 12, 'itie': 1, 'applying': 6, 'al': 41, 'o': 55, 'known': 16, 'fi': 1, 'her': 2, 'which': 50, 'project': 3, 'lower-dimen': 2, 'ional': 11, 'pace': 16, 'i.e.': 9, 'minimize': 8, 'complexity': 3, 'reduce': 11, 're': 91, 'ulting': 4, 'computational': 9, 'co': 18, 'tandard': 3, 'ually': 13, 'uit': 1, 'ity': 13, 'uming': 7, 'all': 35, 'hare': 4, 'ame': 10, 'covariance': 2, 'matrix': 4, 'clo': 4, 'ely': 1, 'related': 7, 'anova': 7, 'variance': 7, 'eek': 2, 'expre': 4, 'dependent': 6, 'combination': 2, 'other': 26, 'mea': 3, 'urement': 1, 'logi': 6, 'tic': 23, 'lr': 2, 'probabili': 3, 'tati': 12, 'tical': 9, 'olve': 10, 'ue': 6, '64': 1, 'typically': 11, 'probabilitie': 4, 'referred': 3, 'defined': 9, 'igmoid': 4, 'eq': 4, 'overfit': 2, 'high-dimen': 6, 'when': 22, 'eparated': 2, 'linearly': 2, 'regularization': 6, 'l1': 5, 'l2': 4, 'technique': 54, 'avoid': 4, 'over-fitting': 4, 'cenario': 1, 'linearity': 1, 'independent': 8, 'major': 1, 'drawback': 1, 'but': 20, 'commonly': 6, '$': 36, '\\\\begin': 9, '{': 103, 'aligned': 18, '}': 103, 'g': 1, 'z': 1, '=': 27, '\\\\frac': 4, '+': 22, '\\\\exp': 1, '-z': 1, '\\\\end': 9, 'k-neare': 2, 'neighbor': 4, 'knn': 5, '9': 5, 'tance-ba': 1, 'non-generalizing': 1, 'lazy': 1, 'focu': 9, 'tructing': 1, 'internal': 2, ';': 129, 'tore': 2, 'corre': 3, 'ponding': 3, 'n-dimen': 1, 'ifie': 3, 'imilarity': 2, 'ure': 3, 'euclidean': 1, 'computed': 2, 'imple': 14, 'majority': 3, 'vote': 1, 'neare': 3, 'quite': 3, 'accuracy': 15, 'depend': 2, 'quality': 4, 'bigge': 1, 'choo': 3, 'optimal': 4, 'number': 24, 'vector': 20, 'vm': 13, '56': 1, 'high-': 1, 'infinite-dimen': 1, 'hyper-plane': 3, 'intuitively': 1, 'greate': 1, 'any': 15, 'achieve': 2, 'eparation': 1, 'ince': 13, 'greater': 5, 'margin': 1, 'lower': 4, 'error': 9, 'effective': 4, 'behave': 2, 'differently': 1, 'different': 18, 'mathematical': 3, 'kernel': 2, 'polynomial': 9, 'radial': 1, 'rbf': 1, 'etc.': 6, 'contain': 12, 'overlapping': 1, 'perform': 9, 'tree': 23, 'dt': 5, '88': 3, 'well-known': 6, 'non-parametric': 2, 'id3': 1, '87': 2, 'c4.5': 1, 'cart': 1, '20': 3, 'moreover': 2, 'recently': 3, 'behavdt': 1, '100': 1, 'intrudtree': 1, '97': 4, 'arker': 4, 'relevant': 8, 'domain': 5, 'behavior': 9, 'analytic': 9, 'cyber': 3, 'ecurity': 3, 'pectively': 2, 'orting': 4, 'down': 6, 'ome': 27, 'leaf': 1, 'node': 17, '4': 6, 'checking': 1, 'attribute': 4, 'tarting': 2, 'at': 21, 'then': 24, 'moving': 1, 'branch': 1, 'value': 27, 'plitting': 4, 'criteria': 6, 'gini': 3, 'impurity': 1, 'entropy': 2, 'information': 17, 'gain': 2, '\\\\mathrm': 3, 'h': 3, '&': 182, '-\\\\': 1, 'um': 6, '_': 6, '^n': 1, 'p': 2, 'x_i': 4, '\\\\log': 1, '_2': 1, '-': 9, '\\\\': 38, '^': 5, 'c': 6, 'p_i': 1, '^2': 6, '4an': 1, 'tructurefull': 1, 'imagefig': 1, '5an': 1, 'random': 12, 'fore': 5, 'multiple': 11, 'full': 6, 'image': 13, 'rf': 8, '19': 3, 'en': 17, 'emble': 3, 'field': 10, 'parallel': 3, 'embling': 3, 'fit': 7, '5': 7, 'ub-': 1, 'ample': 12, 'voting': 1, 'average': 1, 'final': 4, 'ult': 39, 'increa': 7, 'control': 5, 'therefore': 3, 'accurate': 10, 'ingle': 8, '106': 2, 'build': 9, 'erie': 8, 'controlled': 1, 'variation': 1, 'combine': 4, 'boot': 2, 'trap': 2, 'aggregation': 1, 'bagging': 1, '18': 3, 'election': 25, '11': 3, 'adaptable': 1, 'continuou': 5, 'adaptive': 3, 'boo': 9, 'adaboo': 5, 'proce': 44, 'employ': 1, 'iterative': 3, 'approach': 20, 'improve': 8, 'poor': 3, 'their': 18, 'developed': 7, 'yoav': 1, 'freund': 1, '35': 2, 'meta-learning': 1, 'equential': 3, 'create': 11, 'powerful': 6, 'combining': 3, 'poorly': 1, 'performing': 2, 'obtain': 5, 'good': 8, 'high': 7, 'called': 6, 'ignificantly': 3, 'improving': 1, 'efficiency': 2, 'trigger': 1, 'timator': 2, 'itive': 10, 'outlier': 6, 'extreme': 3, 'gradient': 14, 'xgboo': 5, 'like': 26, 'generate': 7, 'individual': 6, 'lo': 4, 'imilar': 7, 'how': 33, 'neural': 73, 'de': 15, 'cent': 6, 'optimize': 1, 'weight': 16, 'form': 16, 'take': 16, 'detailed': 1, 'approximation': 1, 'account': 5, 'determining': 1, 'compute': 4, 'econd-order': 1, 'fa': 10, 'interpret': 4, 'handle': 2, 'large-': 2, 'ized': 1, 'tocha': 5, 'gd': 4, 'optimizing': 1, 'objective': 1, 'appropriate': 2, 'moothne': 1, 'propertie': 2, 'word': 24, '‘': 8, 'probability': 9, 'burden': 2, 'particularly': 5, 'optimization': 5, 'allowing': 5, 'ter': 44, 'iteration': 5, 'exchange': 1, 'convergence': 2, 'rate': 2, 'lope': 2, 'calculate': 3, 'degree': 5, 'change': 5, 'pon': 14, 'convex': 1, 'who': 6, 'partial': 1, 'derivative': 1, 'let': 50, '\\\\alpha\\\\': 1, 'j_i\\\\': 1, 'th': 4, 'repre': 24, 'ent': 15, 'update': 1, 'j^\\\\mathrm': 1, 'cale': 3, 'par': 6, 'ucce': 3, 'fully': 4, 'applied': 4, 'often': 14, 'encountered': 1, 'natural': 11, 'language': 24, 'ing': 66, 'caling': 2, 'hyperparameter': 2, 'w_j': 3, '\\\\alpha': 1, '\\\\partial': 2, 'j_i': 1, 'rule-ba': 14, 'term': 9, 'cheme': 1, 'make': 22, 'if-then': 2, 'zero-r': 1, 'one-r': 1, '47': 1, 'dtnb': 1, '110': 2, 'ripple': 1, 'learner': 1, 'ridor': 1, 'repeated': 2, 'incremental': 1, 'pruning': 1, 'produce': 8, 'ripper': 1, '126': 1, 'exi': 4, 'ability': 3, 'generation': 5, 'among': 6, 'becau': 15, 'advantage': 9, 'being': 6, 'ea': 20, 'ier': 4, 'implicity': 1, 'peed': 1, 'capability': 2, 'human': 16, 'clear': 1, 'tandable': 1, '127': 1, '128': 1, 'tree-ba': 4, 'provide': 19, 'ignificant': 4, 'een': 5, 'ca': 12, 'ily': 3, 'interpretable': 6, 'criptive': 1, 'cribe': 2, 'tem': 28, 'including': 5, 'entitie': 1, 'relation': 8, 'hip': 7, '6cla': 1, 'v': 19, 'dotted': 2, 'line': 8, 'eparate': 1, 'imageregre': 1, 'allow': 10, 'predictor': 8, 'tinction': 2, 'tinct': 3, 'facilitate': 1, 'quantity': 1, 'figure': 5, '6': 7, 'overlap': 1, 'found': 2, 'now': 5, 'variety': 2, 'financial': 1, 'foreca': 2, 'timation': 2, 'trend': 2, 'marketing': 2, 'time': 17, 'drug': 1, 'familiar': 1, 'la': 9, 'ridge': 6, 'explained': 1, 'briefly': 3, 'ml': 7, 'crete': 1, 'traight': 1, 'equation': 6, 'bx': 1, 'b_1x_1': 1, 'b_2x_2': 1, '\\\\cdot': 2, 'b_nx_n': 1, 'intercept': 1, 'b': 6, 'exten': 4, 'wherea': 2, 'only': 8, 'n^\\\\mathrm': 2, 'derived': 1, 'below': 5, 'b_0': 2, 'b_1x': 1, 'b_2x^2': 1, 'b_3x^3': 1, 'b_nx^n': 1, 'e.': 90, '7': 5, 'here': 2, 'predicted/target': 1, 'b_1': 1, '...': 2, 'b_n\\\\': 1, 'coefficient': 9, 'independent/': 1, 'ay': 3, 'if': 49, 'tributed': 1, 'get': 15, 'ired': 2, 'building': 9, 'ence': 1, 'large': 12, 'preventing': 1, 'reducing': 1, 'lea': 3, 'ab': 5, 'olute': 4, 'hrinkage': 3, 'operator': 2, 'penalize': 1, 'magnitude': 3, 'penalty': 2, 'appear': 2, 'render': 1, 'zero': 3, 'aim': 4, 'find': 5, 'ub': 16, 'quantitative': 5, 'hand': 6, 'quared': 4, 'force': 4, 'never': 1, 'non-': 1, 'olution': 5, 'overall': 1, 'eful': 7, 'eliminating': 2, 'le': 8, 'multicollinearity': 1, 'correlated': 2, 'identifying': 1, 'grouping': 3, 'without': 5, 'concern': 1, 'pecific': 4, 'collection': 5, 'object': 6, 'way': 13, 'category': 5, 'group': 14, 'cover': 7, 'intere': 6, 'pattern': 10, 'umer': 1, 'broad': 3, 'e-commerce': 1, 'mobile': 1, 'health': 2, 'behavioral': 1, 'partitioning': 2, 'imilaritie': 1, 'categorize': 4, 'cienti': 2, 'determine': 9, 'either': 2, 'dynamically': 1, 'tatically': 1, 'depending': 3, 'nature': 3, 'k-mean': 13, '69': 2, 'k-mediod': 1, '80': 4, 'clara': 1, '55': 1, 'ity-ba': 5, 'identify': 8, 'concept': 5, 'contiguou': 2, 'region': 5, 'olated': 1, 'low': 6, 'part': 3, 'typical': 3, 'db': 6, '32': 3, 'optic': 1, '12': 3, 'truggle': 1, 'hierarchical-ba': 1, 'hierarchy': 4, 'trategie': 1, 'generally': 1, 'fall': 4, 'agglomerative—a': 1, 'bottom-up': 6, 'ob': 11, 'ervation': 5, 'begin': 4, 'combined': 1, 'move': 3, 'up': 6, 'ii': 1, 'divi': 1, 'ive—a': 1, 'top-down': 3, 'plit': 4, 'performed': 2, 'recur': 5, 'ively': 3, 'our': 9, 'earlier': 4, 'bot': 2, '102': 2, 'grid-ba': 3, 'deal': 3, 'ma': 6, 'pecially': 2, 'uitable': 1, 'fir': 14, 'grid': 3, 'entation': 9, 'cell': 2, '122': 1, 'clique': 1, 'model-ba': 8, 'there': 9, 'mainly': 1, '130': 1, 'gmm': 4, '89': 1, 'om': 2, '22': 2, '96': 4, 'traint-ba': 1, 'trained-ba': 1, 'emi-': 1, 'traint': 6, 'incorporate': 1, 'knowledge': 5, 'er-oriented': 1, 'incorporated': 1, 'kind': 5, 'cop': 1, '121': 1, 'cmwk-mean': 1, '27': 3, '7a': 1, 'graphical': 2, 'interpretation': 2, 'widely-u': 1, 'techniquefull': 1, 'imagemany': 1, 'reliable': 2, 'well-': 2, 'allocated': 1, 'centroid': 5, 'po': 19, 'ible': 10, 'identifie': 3, 'ign': 8, 'keeping': 1, 'center': 1, 'incon': 3, 'tent': 6, 'mean': 12, 'k-medoid': 1, '91': 1, 'mean-': 4, 'hift': 6, '37': 2, 'nonparametric': 1, 'require': 11, 'prior': 2, 'hape': 2, 'blob': 1, 'mooth': 1, 'tribution': 9, 'centroid-ba': 1, 'updating': 1, 'candidate': 6, 'filtered': 1, 't-proce': 1, 'tage': 11, 'remove': 5, 'near-duplicate': 1, 'computer': 11, 'vi': 12, 'computationally': 2, 'expen': 2, 'abruptly': 1, 'patial': 1, 'mining': 9, 'eparating': 1, 'high-den': 2, 'low-den': 1, 'main': 8, 'idea': 6, 'va': 2, 'volume': 2, 'priori': 1, 'pecification': 1, 'arbitrarily': 1, 'haped': 1, 'although': 3, 'much': 12, 'efficient': 3, 'finding': 2, 'mixture': 4, 'tribution-ba': 1, 'produced': 1, 'finite': 1, 'unknown': 1, 'expectation-maximization': 1, 'em': 2, 'contra': 2, 'uncertainty': 1, 'return': 2, 'likelihood': 2, 'even': 5, 'non-linear': 1, 'agglomerative': 4, 'treated': 1, 'ingleton': 1, 'merged': 2, 'until': 1, 'containing': 3, 'dendrogram': 1, 'element': 3, 'linkage': 2, '115': 2, 'complete': 1, '116': 1, 'over': 9, 'tree-': 1, 'informative': 2, 'flat': 1, 'returned': 1, 'help': 12, 'better': 10, 'learningin': 1, 'challenging': 4, 'earcher': 2, 'developer': 4, 'lead': 2, 'overfitting': 3, 'redundancy': 2, 'implifying': 2, 'extraction': 11, 'primary': 2, 'keep': 1, 'original': 4, 'brand': 6, '98': 3, 'unique': 1, 'decrea': 1, 'irrelevant': 2, 'right': 10, 'elected': 2, 'capable': 1, 'through': 9, 'generalizing': 1, '66': 2, '99': 3, 'greatly': 1, 'effectivene': 1, 'chi-': 3, 'pear': 3, 'correlation': 7, 'elimination': 3, 'tanding': 5, 'generating': 5, 'carding': 1, 'ummarized': 3, 'reduced': 3, 'principal': 8, 'component': 9, 'pca': 8, 'ionality-reduction': 1, 'extract': 4, 'creating': 2, 'thre': 11, 'hold': 12, 'ic': 5, 'exclude': 1, 'exceed': 2, 'eliminate': 1, 'zero-variance': 1, 'characteri': 5, 'default': 1, 'look': 9, 'needed': 1, 'tand': 9, '-1': 1, '-1\\\\': 1, 'perfect': 2, 'negative': 6, '+1\\\\': 1, '0': 17, 'r': 4, '\\\\bar': 4, 'y_i': 2, 'qrt': 2, '8': 9, 'tool': 27, 'verify': 1, 'differ': 1, 'ume': 6, 'tically': 1, 'equality': 1, 'utilize': 2, 'certain': 3, 'goal': 4, 'omitted': 1, 'chi': 1, 'quare': 3, '\\\\chi': 4, '^2\\\\': 3, 'difference': 8, 'effect': 2, 'event': 5, 'erved': 4, 'expected': 4, 'frequencie': 1, 'real': 4, 'freedom': 1, 'o_i\\\\': 1, 'e_i\\\\': 1, 'o_i': 1, 'e_i': 2, 'rfe': 4, 'brute': 1, 'weake': 1, 'before': 2, 'meet': 1, 'ranked': 1, 'ignificance': 1, 'dependencie': 1, 'collinearity': 1, 'removing': 1, 'per': 5, 'penalized': 2, 'property': 3, 'hrinking': 1, 'removed': 1, 'elect': 1, 'extra': 1, 'impurity-ba': 1, 'importance': 5, 'card': 3, 'tran': 11, 'uncorrelated': 1, '48': 1, '81': 1, '8a': 1, '3d': 1, '8b': 1, 'pc1': 3, 'pc2': 2, 'onto': 1, '2d': 3, 'plane': 1, '1d': 1, 'technically': 1, 'completely': 3, 'formed': 1, 'highe': 2, 'eigenvalue': 1, 'equal': 2, 'fewer': 1, '8an': 1, 'pacefull': 1, 'imagea': 1, 'learninga': 1, 'tatement': 3, 'tomer': 29, 'buy': 3, 'laptop': 1, 'item': 10, '/he': 1, 'likely': 2, 'anti-viru': 1, 'oftware': 6, 'employed': 1, 'today': 2, 'iot': 1, 'diagno': 2, 'age': 4, 'web': 4, 'martphone': 1, 'bioinformatic': 1, 'compari': 2, 'equence': 1, 'order': 3, 'thing': 3, 'acro': 3, 'action': 10, 'uring': 1, 'efulne': 1, 'confidence': 3, 'introduced': 3, '.in': 1, 'logic': 2, '34': 2, 'frequent': 8, '49': 3, '68': 1, '42': 3, 'ai': 14, 'etm': 3, 'agrawal': 2, 'ide': 9, 'too': 2, 'requiring': 1, 'wa': 23, 'lot': 2, 'effort': 1, 'call': 2, 'pa': 6, 'entire': 3, 'exhibit': 1, 'table': 3, 'execution': 1, 'uffer': 1, 'flaw': 1, 'apriori': 13, 'apriori-tid': 1, 'apriori-hybrid': 1, 'later': 2, 'outperform': 1, 'mentioned': 2, 'earch': 8, 'mu': 2, 'infrequent': 3, 'uper': 5, '108': 1, 'receive': 1, 'unexpected': 1, 'applicable': 1, 'eclat': 3, 'zaki': 1, '131': 1, 'equivalence': 1, 'lattice': 1, 'traver': 2, 'depth-fir': 1, 'horizontal': 1, 'vertically': 1, 'hence': 3, 'calable': 4, 'uited': 2, 'medium': 1, 'fp-growth': 3, 'frequent-pattern': 1, 'fp-tree': 4, 'han': 1, 'growth': 1, 'prevent': 3, 'ful': 1, 'trategy': 1, 'divide': 2, 'conquer': 1, 'tication': 1, 'interactive': 2, 'environment': 7, '133': 3, 'would': 11, 'memory': 3, 'making': 5, 'big': 3, 'rarm': 1, 'rapid': 1, 'da': 2, '26': 2, 'face': 2, 'abc-ruleminer': 3, 'paper': 3, '104': 2, 'non-redundant': 4, 'intelligent': 3, 'taking': 1, 'impact': 2, 'precedence': 1, 'contextual': 1, 'agt': 1, 'potent': 1, 'ion-making': 4, 'context-aware': 1, 'mart': 1, 'computing': 1, 'preference': 1, 'covering': 1, 'trength': 1, 'comprehen': 4, 'ivene': 1, 'ati': 3, 'fy': 1, 'er-': 1, 'minimum': 3, 'give': 1, 'world.reinforcement': 1, 'learningreinforcement': 1, 'rl': 8, 'agent': 3, 'learn': 15, 'trial': 1, 'experience': 5, 'interacting': 1, 'olved': 2, 'reinforcement': 5, 'markov': 1, 'mdp': 2, '86': 1, 'about': 22, 'equentially': 1, 'reward': 5, 'policy.rl': 1, 'roughly': 1, 'model-free': 7, 'inferring': 1, 'erving': 1, 'next': 10, 'immediate': 3, '85': 1, 'alphazero': 1, 'alphago': 1, '113': 1, 'ition': 3, 'q-learning': 7, 'q': 2, 'monte': 5, 'carlo': 5, 'ar': 1, 'tate–action–reward–': 1, 'tate–action': 1, '52': 4, 'policy': 1, 'required': 1, 'experiment': 3, 'wide': 4, 'rely': 2, 'ampling': 1, 'numerical': 3, 'underlying': 1, 'randomne': 1, 'determini': 1, 'integration': 2, 'drawing': 1, 'three': 7, 'tell': 1, 'what': 18, 'condition': 1, 'adaptation': 1, 'maximum': 1, 'working': 2, 'tep': 6, 'initial': 1, 'fed': 4, 'q-value': 1, 'till': 1, 'rea': 6, 'onably': 1, 'etting': 2, 'overcome': 1, 'become': 4, 'complicated': 1, 'approximator': 1, 'along': 4, 'paradigm': 1, 'numerou': 2, 'game': 3, 'theory': 3, 'operation': 1, 'imulation-ba': 1, 'manufacturing': 1, 'upply': 1, 'chain': 2, 'multi-agent': 1, 'warm': 1, 'intelligence': 5, 'aircraft': 1, 'robot': 1, 'motion': 1, 'more.artificial': 1, 'learningdeep': 2, 'wider': 1, 'family': 4, 'artificial': 14, 'ann': 6, '-ba': 1, 'architecture': 7, 'layer': 31, 'hidden': 5, '105': 1, '129': 1, 'vary': 1, 'experimental': 3, 'up.fig': 1, '9machine': 1, 'datafull': 1, 'imagethe': 1, 'multi-layer': 2, 'perceptron': 8, 'mlp': 8, 'convolutional': 6, 'cnn': 11, 'convnet': 3, 'long': 3, 'hort-term': 3, 'recurrent': 6, 'l': 7, 'tm-rnn': 2, 'data-driven': 3, 'purpo': 6, '.fig': 1, '10a': 1, 'feed-forward': 2, 'multilayer': 1, 'connected': 3, '10': 2, 'connect': 2, 'backpropagation': 7, 'fundamental': 2, 'block': 1, 'adju': 6, 'internally': 1, 'tuned': 1, 'neuron': 9, 'tly': 4, 'convolution': 2, '65': 1, 'enhance': 2, 'pooling': 2, 'two-dimen': 1, 'broadly': 3, 'video': 1, 'recognition': 7, 'manual': 7, 'intervention': 1, 'automatically': 13, 'detecting': 4, 'conventional': 2, 'alexnet': 1, '60': 1, 'xception': 1, '24': 2, 'inception': 1, '118': 1, 'ual': 1, 'geometry': 1, 'vgg': 1, '44': 1, 'net': 2, '45': 1, 'tm': 4, 'rnn': 5, '38': 1, 'feedback': 6, 'link': 5, 'analyzing': 11, 'ifying': 6, 'differentiate': 2, 'format': 1, 'entence': 5, 'time-': 2, 'peech': 7, '11an': 1, 'imagein': 1, 'addition': 1, 'elf-organizing': 1, '58': 1, 'achieving': 1, 'autoencoder': 2, 'ae': 1, '15': 2, 'tricted': 2, 'boltzmann': 2, 'rbm': 2, '46': 1, 'collaborative': 1, 'topic': 13, 'belief': 1, 'dbn': 1, 'compo': 2, 'bpnn': 1, '123': 1, 'generative': 2, 'adver': 2, 'arial': 2, 'gan': 1, '39': 1, 'actual': 2, 'fer': 2, 'currently': 2, 'very': 3, 'train': 15, 'comparatively': 1, 're-u': 1, 'pre-trained': 3, '124': 1, 'brief': 1, 'dl': 3, '.overall': 1, 'conclude': 1, 'play': 2, 'role': 1, 'according': 7, 'capabilitie': 3, 'explain': 4, 'black-box': 1, 'heterogeneou': 1, 'etiology': 1, 'ad': 19, 'tood': 1, 'yet': 2, 'interpretability': 1, 'enable': 1, 'validation': 1, 'biological': 2, 'plau': 3, 'ibility': 1, 'tudie': 2, 'detection.for': 1, 'memory-': 1, 'tm-': 1, 'were': 18, 'cn': 12, 'mci': 15, 'ubject': 13, '13': 1, 'included': 3, 'fu': 1, 'ocio-demographic': 2, 'genetic': 2, 'magnetic': 1, 'onance': 1, 'imaging': 1, 'mri': 7, 'evaluated': 2, '—the': 1, '14': 1, 'heinz': 1, 'nixdorf': 1, 'ri': 7, 'factor': 6, 'evaluation': 3, 'coronary': 1, 'calcification': 1, 'life': 2, 'tyle': 2, 'recall': 1, 'hnr': 1, '61': 1, '59': 1, '624': 1, '397': 1, '227': 1, 'alzheimer': 1, 'neuroimaging': 1, 'initiative': 1, 'adni': 7, '16': 2, 'tudy': 2, 'gradient-weighted': 1, 'activation': 3, 'mapping': 1, 'grad-cam': 1, '17': 1, 'biologically': 2, 'erved.four': 1, 'heatmap': 2, 'ualization': 4, '—': 1, 'itivity': 1, 'guided': 1, 'occlu': 2, 'brain': 9, 'pired': 3, '21': 1, '—were': 1, '3d-cnn': 1, '969': 1, '344': 1, '151': 2, '193': 1, 'unclear': 2, 'whether': 4, 'cribed': 2, 'workflow': 4, 'ured': 1, '23': 1, 'cro': 1, '-validation': 2, 'cv': 2, '77\\\\': 1, '%': 17, '\\\\pm': 1, '6\\\\': 1, 'might': 3, 'affected': 1, 'leakage': 1, 'ad-related': 1, 'anatomical': 1, '.an': 1, 'extend': 1, 'adjacent': 1, '25': 2, 'iteratively': 1, 'timated': 3, '101': 1, 'pmci': 6, 'longitudinal': 1, 'volumetric': 1, 'outperformed': 1, '.a': 3, 'weighted': 1, '54': 1, 'cohort': 4, 'framework': 3, 'high-order': 1, 'interaction': 1, 'rejection': 1, 'option': 4, 'himr': 1, 'pla': 1, 'propagated': 1, 'econd': 3, 'inva': 2, 'cerebro': 1, 'pinal': 1, 'fluid': 1, 'marker': 1, 'reached': 2, 'receiver-operating': 1, 'curve': 1, 'auroc': 1, '0.81': 1, 'hapley': 2, 'additive': 1, 'explanation': 2, 'hap': 5, '28': 1, 'core': 12, '29': 1, 'leave-one-out': 1, '30': 1, 'validated': 2, '400': 1, '319': 1, 'externally': 1, 'aibl': 1, 'ummary': 2, 'plot': 1, 'howed': 2, 'learned': 2, '.to': 1, 'examine': 1, 'influence': 1, '\\\\upbeta\\\\': 4, '-amyloid': 4, 'plaque': 3, 'tau': 3, 'tangle': 3, 'neurodegeneration': 3, 'during': 2, 'progre': 3, '31': 1, '405': 1, '148': 1, '147': 1, 'itron': 1, 'emi': 1, 'tomography': 1, 'pet': 5, 'urrogated': 1, 'fluorodeoxygluco': 1, 'fdg': 1, 'early': 1, 'preferred': 1, 'enting': 1, 'favored': 1, 'urrogate': 1, 'gtb': 1, 'reproduced': 1, 'accuracie': 1, '73.17': 1, '71.01': 1, '90.34': 1, '33': 1, 'population-ba': 1, 'patient': 1, 'develop': 2, 'tory': 4, 'extracted': 1, 'urvey': 11, 'ageing': 1, 'retirement': 1, 'europe': 1, '80,699': 1, '4,157': 1, '109': 1, '364': 1, 'younger': 1, 'hypothe': 1, 'previou': 5, '36': 1, 'education': 1, 'phy': 1, 'ical': 1, 'inactivity': 1, 'diabete': 1, 'ocial': 6, 'contact': 1, 'identified': 2, 'potential': 2, 'tage-ba': 1, 'implemented': 2, 'differentiation': 1, 'modalitie': 1, 'biomarker': 1, 'cognitive': 5, 'ted': 5, '1,048': 1, '294': 1, '254': 1, '232': 1, '268': 1, 'almo': 1, 'bad': 4, 'followed': 1, 'uptake': 1, '.table': 1, 'workfull': 1, 'reflect': 1, 'program': 2, 'recognize': 2, '?': 26, 'imulated': 1, 'nn': 1, 'heart': 1, 'mimicking': 1, 'ignal': 1, 'compri': 3, 'activated': 1, 'ending': 1, 'otherwi': 1, 'once': 7, 'fine-tuned': 2, 'they': 19, 'velocity': 1, 'minute': 4, 'ver': 2, 'hour': 5, 'identification': 1, 'expert': 1, 'think': 5, 'own': 9, 'bia': 5, 'formula': 2, 'omething': 2, '∑wixi': 1, 'w1x1': 1, 'w2x2': 1, 'w3x3': 1, '∑w1x1': 2, '>': 1, '<': 1, 'determined': 1, 'igned': 2, 'larger': 3, 'contributing': 1, 'multiplied': 1, 'pective': 2, 'ummed': 1, 'afterward': 1, 'fire': 1, 'activate': 1, 'becoming': 2, 'define': 2, 'feedforward': 4, 'break': 1, 'apply': 2, 'tangible': 1, 'you': 83, 'hould': 4, 'go': 5, 'urfing': 2, 'y-hat': 3, 'influencing': 1, 'your': 39, 'wave': 2, 'line-up': 1, 'empty': 1, 'recent': 2, 'hark': 3, 'giving': 1, 'x1': 1, 'pumping': 1, 'x2': 1, 'crowd': 2, 'x3': 1, 'ignify': 1, 'particular': 3, 'w1': 1, 'don': 8, 'come': 5, 'around': 6, 'w2': 1, 'w3': 1, 'fear': 1, 'finally': 1, 'll': 13, '–3': 1, 'tart': 7, 'plug': 1, '*': 3, '–': 3, 'beginning': 1, 'erve': 1, 'ee': 6, 'ingly': 2, 'complex': 8, 'illu': 2, 'trate': 1, 'mathematic': 1, 'leverage': 3, 'tingui': 2, 'hed': 3, 'cading': 1, 'will': 7, 'equently': 1, 'practical': 1, 'labeled': 6, 'want': 8, 'evaluate': 2, 'm': 4, 'index': 1, '𝐶𝑜𝑠𝑡': 1, '𝐹𝑢𝑛𝑐𝑡𝑖𝑜𝑛=': 1, '𝑀𝑆𝐸=1/2𝑚': 1, '∑129_': 1, '𝑖=1': 1, '^𝑚▒': 1, '𝑦': 1, '̂^': 1, '𝑖': 2, '−𝑦^': 1, 'ultimately': 1, 'correctne': 1, 'reach': 2, 'direction': 3, 'gradually': 1, 'converge': 1, 'ibm': 13, 'article': 7, 'deeper': 1, 'meaning': 1, 'flow': 1, 'oppo': 1, 'ite': 1, 'appropriately': 1, 'li': 5, 'entative': 1, 'olde': 1, 'frank': 2, 'ro': 3, 'enblatt': 3, '1958': 2, 've': 2, 'primarily': 3, 'note': 3, 'actually': 1, 'nonlinear': 1, 'them': 5, 'foundation': 3, 'utilized': 1, 'and/or': 1, 'harne': 1, 'algebra': 1, 'multiplication': 1, 'loop': 1, 'leveraged': 2, 'future': 2, 'tock': 1, 'market': 2, 'ale': 4, 'tend': 1, 'interchangeably': 1, 'conver': 5, 'ation': 5, 'confu': 1, 'worth': 1, 'noting': 1, 'ju': 9, 'depth': 1, '—which': 1, 'inclu': 1, 'output—can': 1, 'plea': 1, 'read': 3, 'blog': 2, 'longer': 1, 'people': 7, 'traced': 1, 'ancient': 1, 'greek': 1, 'led': 1, 'evolution': 2, 'thinking': 1, 'ebbed': 1, 'flowed': 1, 'popularity': 1, 'year': 2, '1943': 1, 'warren': 1, 'mcculloch': 2, 'walter': 1, 'pitt': 2, 'publi': 2, 'logical': 1, 'calculu': 1, 'immanent': 1, 'nervou': 1, 'activity': 1, 'pdf': 4, 'mb': 4, 'ought': 1, 'came': 1, 'boolean': 1, '0/1': 1, 'true/fal': 1, 'credited': 1, 'development': 3, 'documented': 1, 'torage': 1, 'organization': 1, '1.6': 1, 'he': 1, 'further': 2, 'introducing': 1, 'leveraging': 1, '704': 1, 'able': 4, 'marked': 2, 'left': 2, '1974': 1, 'contributed': 1, 'paul': 1, 'werbo': 1, 'phd': 1, '8.1': 1, '1989': 1, 'yann': 1, 'lecun': 1, '5.7': 1, 'trating': 1, 'hand-written': 1, 'zip': 1, 'code': 3, 'digit': 1, 'provided': 1, 'u.': 1, 'tal': 1, 'cloud': 4, 'decade': 1, 'pioneer': 1, 'technologie': 1, 'highlighted': 1, 'wat': 6, 'tru': 1, 'enterpri': 2, 'looking': 1, 'proven': 1, 'tiered': 1, 'adoption': 1, 'implementation': 1, 'apache': 2, 'management': 1, 'uima': 1, 'deepqa': 1, 'available': 3, 'utilizing': 1, 'tudio': 2, 'eamle': 1, 'bring': 1, 'open': 5, 'ource': 39, 'production': 1, 'deploying': 2, 'running': 1, 'tarted': 4, 'explore': 2, 'ibmid': 1, 'overview': 1, 'eem': 1, 'born': 1, '1950': 1, 'imagine': 2, 'write': 3, 'python': 8, 'udoku': 4, 'accompli': 1, 'check': 3, 'place': 1, 'cript': 2, 'already': 1, 'programmed': 1, '!': 26, 'olving': 1, 'hard-coded': 1, 'explicitly': 1, 'programming': 5, 'getting': 3, 'back': 2, 'gather': 2, 'formalized': 1, 'approximate': 1, 'phenomenon': 1, 'correct': 3, 'cikit-learn': 4, 'library': 7, 'train_te': 1, 't_': 1, 'follow': 5, 'again': 2, 'harder': 3, 'relatively': 1, 'traightforward': 3, 'dealing': 2, 'directly': 2, 'entiment': 20, 'know': 3, 'depict': 1, 'cat': 1, 'extracting': 2, 'raw': 1, 'meaningful': 1, 'lemmatization': 3, 'inflection': 1, 'inflected': 2, 'verb': 1, 'watch': 1, 'watche': 1, 'watching': 1, 'watched': 1, 'lemma': 2, 'watch.': 1, 'array': 2, 'corpu': 1, 'end': 3, 'bag-of-word': 2, 'every': 6, 'occurrence': 4, 'elf': 1, 'bypa': 1, 'mood': 1, 'picture': 1, 'worry': 2, 'elve': 1, 'dive': 1, 't=': 22, \"''\": 264, 'undefined': 22, '=typeof': 22, 'htmlimageelement': 22, 'loading': 22, 'htmlimageelement.prototype': 22, 't=document.query': 22, 'electorall': 44, '``': 176, 'img': 22, 'data-main-image': 22, 'e.data': 110, 'rc': 264, 'etattribute': 66, 'e.removeattribute': 66, 'data-': 88, 't=e.parentnode.query': 22, 'e.complete': 22, 'tyle.opacity=1': 22, 'try': 1, 'monkeylearntext': 1, 'why': 3, 'matter': 1, 'definitionproce': 1, 'extremely': 1, 'rich': 1, 'ight': 4, 'hard': 3, 'time-con': 6, 'nature.but': 1, 'thank': 2, 'advance': 1, 'umbrella': 1, 'tag': 18, 'nlptry': 1, 'nowit': 1, 'tructuring': 2, 't-effectively': 1, 'bu': 18, 'ine': 18, 'automate': 6, 'no-code': 2, 'monkeylearn': 6, \"'\": 5, 'analyzer.what': 1, 'hybrid': 4, 'tutorialwhat': 1, 'predefined': 2, 'open-ended': 4, 'organize': 1, 'pretty': 2, 'file': 3, 'organized': 6, 'ticket': 7, 'urgency': 2, 'chat': 4, 'mention': 3, 'on.text': 1, 'labeling': 4, 'intent': 10, 'detection.here': 1, 'interface': 4, 'phra': 1, 'analyze': 8, 'content': 3, 'ui': 1, 'e.con': 1, 'me': 3, 'organizing': 8, 'companie': 12, 'fail': 2, 'potential.thi': 2, 'manner': 3, 'legal': 3, 'media': 5, 'chatbot': 4, 't-effective': 3, 'ave': 5, '.why': 2, 'top': 3, 'calabilitymanually': 2, '..': 1, 'million': 5, 'comment': 3, 'fraction': 2, 'few': 4, 'mall.real-time': 2, 'critical': 4, 'oon': 2, 'pr': 3, 'cri': 3, 'tantly': 2, \"'ll\": 2, 'away.con': 2, 'criteriahuman': 2, 'annotator': 3, 'mi': 3, 'traction': 3, 'fatigue': 2, 'boredom': 2, 'ubjectivity': 2, 'applie': 3, 'len': 2, 'properly': 2, 'urpa': 2, 'accuracy.how': 1, 'automatic': 3, 'accordingly': 1, 'deliver': 1, 'ive.automatic': 1, 'nlp': 6, 'ai-guided': 1, 'manner.in': 1, 'guide': 2, 'going': 2, 'handcrafted': 1, 'lingui': 2, 'emantically': 1, 'antecedent': 1, 'port': 9, 'politic': 8, 'characterize': 1, 'football': 1, 'ketball': 2, 'lebron': 3, 'jame': 3, 'donald': 1, 'trump': 1, 'hillary': 1, 'clinton': 1, 'putin': 1, 'incoming': 2, 'count': 3, 'port-related': 1, '-related': 5, 'appearance': 2, 'vice': 1, 'a.for': 1, 'headline': 2, 'laker': 1, 'counted': 1, 'didn': 1, '.rule-ba': 1, 'improved': 1, 'tarter': 1, 'difficult': 1, 'maintain': 2, 'adding': 2, 'pre-exi': 1, '.machine': 2, 'relying': 2, 'manually': 2, 'crafted': 1, 'pre-labeled': 1, 'piece': 1, 'pre-determined': 1, 'into.the': 1, 'toward': 1, 'frequently': 1, 'bag': 1, 'frequency': 1, 'dictionary': 2, '.for': 2, 'awe': 2, 'wanted': 1, 'vectorize': 1, '.then': 1, 'e.g': 6, 'enough': 1, 'extractor': 1, 'human-crafted': 1, 'alway': 1, 'learning.naive': 1, 'overall.one': 1, 'member': 1, 'mnb': 1, 'huge': 3, 'really': 2, '~': 1, 'couple': 1, 'thou': 2, 'tagged': 6, 'carce.naive': 1, 'calculating': 1, 'outputting': 1, 'probability.the': 1, 'divided': 1, 'true.thi': 1, 'category.take': 1, 'eike': 1, 'providing': 1, 'accurate.in': 1, 'hort': 3, 'draw': 1, 'hyperplane': 3, 'with.a': 1, '/tag': 1, 'great': 6, 'multi-dimen': 1, 'ional.': 1, 'added': 1, 'z-axi': 1, 'circle': 1, 'mapped': 1, 'ideal': 1, 'offer': 4, 'lower-level': 1, 'computation.the': 1, '.deep': 1, 'data.deep': 1, 'nbeep': 1, 'continue': 1, 'feed': 2, 'word2vec': 1, 'glove': 1, '.hybrid': 1, 'learning-trained': 1, 'conflicting': 1, 'haven': 1, 'correctly': 2, 'modeled': 1, 'ifier.metric': 1, 'evaluationcro': 1, 'equal-length': 1, 'remaining': 1, '75': 1, 'human-annotated': 1, 'made': 1, '.with': 1, 'metric': 1, 'quick': 2, 'ment': 1, 'percentage': 3, 'categorized': 1, 'tag.preci': 1, 'got': 1, 'total': 2, 'tag.recall': 1, 'tag.f1': 1, 'harmonic': 1, 'preci': 1, 'recall.why': 1, 'accuracy.text': 1, 'context': 1, 'tweet': 4, 'querie': 1, 'review': 9, 'contract': 1, 'longform': 1, 'perhap': 1, 'opinion': 2, 'automated': 1, 'reading': 1, 'polarity': 1, 'neutral': 2, 'beyond': 1, 'product': 9, 'monitoring': 1, 'workforce': 1, 'feeling': 1, 'emotion': 1, 'writer.try': 1, 'do.te': 1, 'textthe': 3, 'ux': 1, 'amazing': 1, 'e.cla': 1, 'textre': 4, 'tagconfidencepo': 1, 'itive99.9': 1, 'odd': 1, 'tutorial': 3, 'tom': 2, 'five': 1, '.topic': 1, 'labelinganother': 1, 'talking': 3, 'ubject.try': 1, 'np': 2, 'aa': 7, 'pricing': 1, 'textcu': 1, 'terrible': 1, '.cla': 1, 'tagconfidencecu': 1, 'upport84.5': 1, 'ifier.language': 1, 'detectionlanguage': 1, 'routing': 2, 'route': 3, 'team': 4, '.the': 2, 'cientific': 1, 'body': 1, 'inve': 1, 'tigating': 1, 'phenomena': 1, 'acquiring': 1, 'correcting': 1, 'integrating': 1, 'knowledge.cla': 1, 'tagconfidenceengli': 1, 'h-en100.0': 1, 'detectionintent': 1, 'behind': 3, 'maybe': 2, 'complaint': 2, 'purcha': 1, 'automating': 5, 'practice': 1, 'department.try': 1, 'detect': 2, 'replie': 1, 'wrong': 1, 'bounce': 1, 'autore': 1, 'ponder': 1, 'cool': 1, \"'d\": 1, 'love': 1, 'chedule': 1, 'talk': 1, 'more.cla': 1, 'tagconfidenceintere': 1, 'ted100.0': 1, 'cene': 1, 'app': 3, 'interact': 1, 'daily': 1, 'marketer': 1, 'manager': 1, 'engineer': 1, 'hundred': 1, 'urgent': 2, 'tening': 2, 'voice': 5, 'voc': 2, 'twitter': 2, 'alone': 1, '500': 1, 'day': 4, '83': 1, 'complain': 1, 'expect': 1, 'expecting': 1, 'immediately.with': 1, 'pect-ba': 1, 'pect': 1, 'churn': 2, 'bug': 1, 'downtime': 1, 'affecting': 1, 'handful': 1, 'tainable': 1, 'growing': 1, 'company': 2, 'hub': 2, 'pot': 2, '93': 1, 'repeat': 1, 'excellent': 2, 'unveiled': 1, 'pondent': 1, 'aid': 1, 'had': 1, 'topped': 1, 'doing': 1, 'experience.text': 1, 'tellar': 1, 'aving': 1, 'preciou': 1, 'pent': 1, 'triaging': 1, 'teammate': 2, 'experti': 1, 'king': 1, 'refund': 2, 'permi': 1, 'prioritize': 1, 'turn': 1, 'promoter': 1, 'ten': 4, 'journey.the': 1, 'gathered': 1, 'qualitative': 2, 'in-depth': 1, 'informed': 1, 'pend': 1, 'e.text': 1, 'repetitive': 1, '.but…': 1, 'heck': 1, 'overwhelming.at': 1, 'builder': 1, 'detail': 2, 'worthle': 1, 'accuaret': 1, 'crm': 1, 'lack': 1, 'drift': 1, 'intercom': 1, 'zende': 1, 'fre': 1, 'hde': 1, 'front': 1, 'urveymonkey': 1, 'typeform': 1, 'faction': 1, 'promoter.io': 1, 'retently': 1, 'meter': 1, 'export': 1, 'ifier.another': 1, 'external': 1, 'throughout': 1, 'craping': 1, 'api': 5, 'public': 1, 'publicly': 1, 'experimenting': 1, 'away.topic': 1, 'reuter': 2, 'probably': 2, '21,578': 1, '135': 1, 'economic': 1, '.20': 1, '~20,000': 1, 'amazon': 2, '~143': 1, 'tar': 2, 'rating': 2, 'panning': 1, '1996': 1, 'july': 1, '2014': 1, 'alternative': 3, 'here.imdb': 1, 'maller': 1, '25,000': 1, 'movie': 2, 'internet': 1, 'databa': 1, 'imdb': 1, '.twitter': 1, 'airline': 2, '15,000': 1, 'negative.other': 1, 'pamba': 1, '4,601': 1, '5,574': 1, 'legitimate.hate': 1, 'offen': 2, '24,802': 1, 'clean': 2, 'hate': 1, 'language.2': 1, 'alright': 1, 'luckily': 1, 'i.e': 1, 'forming': 1, 'peaking': 1, 'open-': 2, 'librarie': 11, 'ongoing': 1, 'debate': 1, 'upper': 1, 'echelon': 1, 'little': 1, 'away': 1, 'accurately.open-': 1, 'ificationone': 1, 'tream': 1, 'myriad': 1, 'hefty': 1, 'background': 2, 'fair': 1, 'implification': 1, 'java': 4, 'actively': 1, 'diver': 2, '.text': 1, 'pythonpython': 1, 'choice': 2, 'yntax': 1, 'community': 3, 'cientific-computing': 1, 'friendline': 1, 'prevalent': 1, 'go-to': 1, 'beginner': 1, 'friendly': 1, 'dozen': 1, 'tep-by-': 1, 'web.nltk': 1, 'handy': 1, 'paragraph': 1, 'recognizing': 1, 'modern': 1, 'newer': 1, 'pacy': 3, 'toolkit': 2, 'minimal': 1, 'nltk': 2, 'implement': 1, 'temmer': 1, 'integrated': 2, 'embedding': 1, 'ification.once': 1, 'ready': 1, 'kera': 3, 'orflow': 3, 'pytorch': 2, 'implify': 1, 'creation': 1, 'implementing': 3, 'dropbox': 1, 'ebay': 1, 'intel': 1, 'optimized': 1, 'undi': 1, 'puted': 1, 'leader': 1, 'facebook': 1, 'backed': 1, 'nvidia': 1, 'tanford': 2, 'univer': 4, 'oxford': 1, 'uber.text': 1, 'javaanother': 1, 'eco': 1, 'nlp.corenlp': 1, 'part-of-': 2, 'tagger': 1, 'named': 1, 'entity': 1, 'recognizer': 1, 'ner': 1, 'coreference': 1, '.another': 1, 'opennlp': 1, 'bunch': 1, 'tokenization': 1, 'egmentation': 1, 'tagging': 1, 'chunking': 1, 'ing.weka': 1, 'waikato': 1, 'weka': 1, 'code.text': 1, 'rthe': 1, 'approachable': 1, 'enthu': 1, 'ia': 1, 'torically': 1, 'academic': 1, 'tician': 1, 'graphic': 1, 'reporting': 1, 'kdnugget': 1, '#': 1, '.r': 1, 'coherent': 1, '.caret': 1, 'package': 2, 'r.': 1, 'pre-proce': 1, 'tuning.mlr': 1, 'tandardized': 1, 'targeted': 1, 'deploy': 1, 'curate': 1, '.you': 1, 'wondering': 1, 'leaving': 1, 'heavy': 1, 'lifting': 1, 'money': 1, 'remarkable': 1, 'monkeylearngoogle': 1, 'nlpibm': 1, 'onlexalytic': 1, 'meaningcloudamazon': 1, 'comprehendaylientext': 1, 'tutorialmonkeylearn': 1, 'all-in-one': 1, 'run': 1, 'triking': 1, 'categorizing': 1, 'elf.1': 1, 'template': 1, 'workflowcon': 2, 'upload': 1, 'datacon': 2, \"n't\": 1, 'et.3': 1, 'match': 1, 'columncon': 1, 'created_at': 1, 'date': 1, 'ent.text': 1, 'e.rating': 1, 'tomer.4': 1, 'wait': 1, 'hboard': 1, 'filter': 1, 'keyword': 1, 'via': 1, 'coworker': 1, '.takeawaytext': 1, 'competitive': 1, 'advantage.turning': 1, 'incredibly': 1, 'helpful': 1, 'actionable': 1, 'drive': 1, '.have': 1, 'que': 1, 'tion': 1, 'freere': 1, 'pricinghelpapi': 1, 'doc': 1, 'blogguide': 1, 'tomerdata': 1, 'cleaningdata': 1, 'datacompanycore': 1, 'career': 1, \"'re\": 1, 'hiring': 1, 'twittergithub': 1, 'ecuritylegalprivacy': 1, 'policyterm': 1, 'collectionre': 1, 'urecon': 1, 'inc.': 1, '2022': 1}\n"
          ]
        }
      ]
    },
    {
      "cell_type": "code",
      "source": [
        "# ordena a lista para saber qual é a palavra que mais se repete\n",
        "import heapq\n",
        "freq_words = heapq.nlargest(5000,word2count, key=word2count.get)"
      ],
      "metadata": {
        "id": "N2Q-ZqsngOR6"
      },
      "execution_count": 10,
      "outputs": []
    },
    {
      "cell_type": "code",
      "source": [
        "#criando uma lista de vetor dos textos \n",
        "x = []\n",
        "vector = []\n",
        "for data in vetor_setencas:\n",
        "    for word in freq_words:\n",
        "        for i in range(len(data)):\n",
        "            if word in nltk.word_tokenize(data[i]):\n",
        "                vector.append(1) # se a palavra está contida no documento coloca-se 1\n",
        "                #print(vector)\n",
        "            else:\n",
        "                vector.append(0) # se a palavra não está contida no documento coloca-se 0\n",
        "        x.append(vector)\n",
        "    \n",
        "y = np.asarray(x)\n",
        "print (y)"
      ],
      "metadata": {
        "id": "gYVkX9Ylge3h"
      },
      "execution_count": null,
      "outputs": []
    },
    {
      "cell_type": "code",
      "source": [],
      "metadata": {
        "id": "vag6Fz9gjbvk"
      },
      "execution_count": null,
      "outputs": []
    }
  ]
}